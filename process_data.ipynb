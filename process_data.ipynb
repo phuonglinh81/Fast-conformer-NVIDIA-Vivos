{
  "cells": [
    {
      "cell_type": "markdown",
      "metadata": {
        "id": "view-in-github",
        "colab_type": "text"
      },
      "source": [
        "<a href=\"https://colab.research.google.com/github/phuonglinh81/Fast-conformer-NVIDIA-Vivos/blob/main/process_data.ipynb\" target=\"_parent\"><img src=\"https://colab.research.google.com/assets/colab-badge.svg\" alt=\"Open In Colab\"/></a>"
      ]
    },
    {
      "cell_type": "markdown",
      "source": [
        "# Augment data"
      ],
      "metadata": {
        "id": "wZg-orHKlYkz"
      }
    },
    {
      "cell_type": "code",
      "source": [
        "!pip install audiomentations"
      ],
      "metadata": {
        "id": "AkJfivsCnBER"
      },
      "execution_count": null,
      "outputs": []
    },
    {
      "cell_type": "code",
      "source": [
        "import os\n",
        "import librosa\n",
        "import numpy as np\n",
        "from scipy.io.wavfile import write\n",
        "from IPython.display import Audio, display\n",
        "from audiomentations import Compose, TimeStretch\n",
        "from scipy import signal\n",
        "import soundfile as sf  # Thêm thư viện soundfile để lưu âm thanh\n",
        "\n",
        "# Đường dẫn thư mục gốc và các thư mục cần thiết\n",
        "# Đường dẫn đến thư mục data gốc\n",
        "data_dir = '/content/drive/MyDrive/dataset_vivos/vivos/test/waves'\n",
        "\n",
        "# Đường dẫn đến thư mục chứa data tăng cường\n",
        "augment_dir = '/content/drive/MyDrive/dataset_vivos/vivos/augment/test_aug'\n",
        "os.makedirs(augment_dir, exist_ok=True)\n",
        "\n",
        "# Hàm lưu tệp âm thanh mới vào thư mục augment\n",
        "def save_audio(y, sr, file_name):\n",
        "    new_file_path = os.path.join(augment_dir, file_name)\n",
        "    write(new_file_path, sr, (y * 32767).astype(np.int16))  # Chuẩn hóa dữ liệu để ghi dạng int16\n",
        "\n",
        "# Thay đổi cao độ\n",
        "def change_pitch(y, sr, n_steps=2):\n",
        "    return librosa.effects.pitch_shift(y, sr=sr, n_steps=n_steps)\n",
        "\n",
        "# Thêm nhiễu ngẫu nhiên\n",
        "def add_noise(y, noise_factor=0.005):\n",
        "    return y + noise_factor * np.random.randn(len(y))\n",
        "\n",
        "# Hàm thêm tiếng vang (reverberation)\n",
        "def add_reverberation(y, sr, reverb_amount=0.4):\n",
        "    ir_length = int(0.3 * sr)  # 300 ms\n",
        "    ir = np.zeros(ir_length)\n",
        "    ir[0] = 1\n",
        "    ir[int(0.05 * sr)] = reverb_amount  # Thêm phản xạ tại 50 ms\n",
        "    y_reverb = signal.convolve(y, ir)[:len(y)]  # Tính toán tiếng vang\n",
        "    y_reverb = y_reverb / np.max(np.abs(y_reverb))  # Chuẩn hóa\n",
        "    return y_reverb\n",
        "\n",
        "# Lấy danh sách tệp âm thanh\n",
        "audio_files = []\n",
        "for root, dirs, files in os.walk(data_dir):\n",
        "    for file in files:\n",
        "        if file.endswith('.wav'):\n",
        "            audio_files.append(os.path.join(root, file))\n",
        "\n",
        "# Áp dụng các phép biến đổi theo tỉ lệ đã cho\n",
        "for file_path in audio_files:\n",
        "    y, sr = librosa.load(file_path, sr=None)\n",
        "    file_name = os.path.basename(file_path).split('.')[0]\n",
        "\n",
        "    # Chọn phép biến đổi ngẫu nhiên theo tỉ lệ\n",
        "    transform_type = random.choices(\n",
        "        ['pitch', 'noise', 'reverb', 'speed'],\n",
        "        weights=[0.2, 0.3, 0.2, 0.1],  # Thêm weights cho reverberation\n",
        "        k=1\n",
        "    )[0]\n",
        "\n",
        "    # Áp dụng phép biến đổi với mức độ ngẫu nhiên\n",
        "    if transform_type == 'pitch':\n",
        "        n_steps = random.randint(-2, 2)  # Thay đổi độ cao ngẫu nhiên\n",
        "        y_augmented = change_pitch(y, sr, n_steps=n_steps)\n",
        "        new_file_name = f\"{file_name}_pitch.wav\"\n",
        "    elif transform_type == 'noise':\n",
        "        noise_factor = random.uniform(0.001, 0.01)  # Thêm nhiễu ngẫu nhiên\n",
        "        y_augmented = add_noise(y, noise_factor=noise_factor)\n",
        "        new_file_name = f\"{file_name}_noise.wav\"\n",
        "    elif transform_type == 'reverb':\n",
        "        reverb_amount = random.uniform(0.1, 0.9)  # Lượng tiếng vang ngẫu nhiên\n",
        "        y_augmented = add_reverberation(y, sr, reverb_amount=reverb_amount)\n",
        "        new_file_name = f\"{file_name}_reverb.wav\"\n",
        "    elif transform_type == 'speed':\n",
        "        # Thay đổi tốc độ (time-stretch) sử dụng audiomentations\n",
        "        augmentations = Compose([\n",
        "            TimeStretch(min_rate=0.5, max_rate=1.5, p=1)  # Thay đổi tốc độ từ 0.5 đến 1.5\n",
        "        ])\n",
        "        y_augmented = augmentations(samples=y, sample_rate=sr)\n",
        "        new_file_name = f\"{file_name}_timestretch.wav\"\n",
        "\n",
        "    # Lưu tệp đã làm giàu\n",
        "    save_audio(y_augmented, sr, new_file_name)\n"
      ],
      "metadata": {
        "id": "L-VuJwKblcva"
      },
      "execution_count": null,
      "outputs": []
    },
    {
      "cell_type": "markdown",
      "source": [
        "# Create file manifest"
      ],
      "metadata": {
        "id": "vy4K0yFCnGUW"
      }
    },
    {
      "cell_type": "code",
      "source": [
        "import os\n",
        "import json\n",
        "import librosa\n",
        "\n",
        "def create_manifest_from_vivos(waves_dir, prompts_file, manifest_path):\n",
        "    \"\"\"\n",
        "    Tạo tệp manifest từ thư mục chứa tệp âm thanh và tệp prompts.txt.\n",
        "\n",
        "    waves_dir: Đường dẫn đến thư mục chứa tệp .wav\n",
        "    prompts_file: Đường dẫn đến tệp prompts.txt\n",
        "    manifest_path: Đường dẫn lưu tệp manifest output\n",
        "    \"\"\"\n",
        "    # Đọc tệp prompts.txt\n",
        "    with open(prompts_file, 'r', encoding='utf-8') as f:\n",
        "        lines = f.readlines()\n",
        "\n",
        "    # Tạo một map để lưu trữ đường dẫn đầy đủ đến các tệp .wav\n",
        "    audio_files = {}\n",
        "    for root, dirs, files in os.walk(waves_dir):\n",
        "        for file in files:\n",
        "            if file.endswith('.wav'):\n",
        "                audio_files[file] = os.path.join(root, file)  # Lưu đường dẫn đầy đủ\n",
        "\n",
        "    # Mở tệp manifest để ghi từng dòng\n",
        "    with open(manifest_path, 'w', encoding='utf-8') as manifest:\n",
        "        # Duyệt qua từng dòng của prompts.txt\n",
        "        for line in lines:\n",
        "            # Tách mã file và transcript từ mỗi dòng\n",
        "            parts = line.strip().split(' ', 1)\n",
        "            if len(parts) < 2:\n",
        "                continue\n",
        "            wav_file = parts[0] + '.wav'  # Tên file âm thanh\n",
        "            transcript = parts[1].lower() # Chuyển toàn bộ văn bản thành chữ thường\n",
        "\n",
        "            # Tìm tệp âm thanh trong map\n",
        "            if wav_file in audio_files:\n",
        "                audio_path = audio_files[wav_file]\n",
        "                # Load tệp âm thanh để tính thời lượng\n",
        "                duration = librosa.get_duration(filename=audio_path)\n",
        "\n",
        "                # Tạo một entry cho manifest\n",
        "                entry = {\n",
        "                    \"audio_filepath\": audio_path,\n",
        "                    \"text\": transcript,\n",
        "                    \"duration\": duration\n",
        "                }\n",
        "\n",
        "                # Ghi từng mục dưới dạng JSON trên một dòng\n",
        "                manifest.write(json.dumps(entry, ensure_ascii=False) + '\\n')\n",
        "            else:\n",
        "                print(f\"File {wav_file} does not exist in {waves_dir}\")\n",
        "\n",
        "    print(\"Manifest file created!\")\n",
        "\n",
        "# Đường dẫn đến thư mục waves và tệp prompts.txt trong tập train/test\n",
        "train_waves_dir = '/content/drive/MyDrive/dataset_vivos/vivos/augment/test_aug'\n",
        "train_prompts_file = '/content/drive/MyDrive/dataset_vivos/vivos/augment/scripts/test_prompts_aug.txt'\n",
        "\n",
        "# Đường dẫn để lưu tệp manifest\n",
        "train_manifest = '/content/drive/MyDrive/dataset_vivos/vivos/test_manifest_aug.json'\n",
        "\n",
        "# Tạo tệp manifest\n",
        "create_manifest_from_vivos(train_waves_dir, train_prompts_file, train_manifest)\n",
        "\n",
        "print(\"Manifest file created!\")\n"
      ],
      "metadata": {
        "id": "s_itUS3dnFnV"
      },
      "execution_count": null,
      "outputs": []
    }
  ],
  "metadata": {
    "colab": {
      "provenance": [],
      "include_colab_link": true
    },
    "kernelspec": {
      "display_name": "Python 3",
      "name": "python3"
    }
  },
  "nbformat": 4,
  "nbformat_minor": 0
}