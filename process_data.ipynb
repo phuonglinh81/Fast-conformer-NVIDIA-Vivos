{
  "cells": [
    {
      "cell_type": "markdown",
      "metadata": {
        "id": "view-in-github",
        "colab_type": "text"
      },
      "source": [
        "<a href=\"https://colab.research.google.com/github/phuonglinh81/Fast-conformer-NVIDIA-Vivos/blob/main/process_data.ipynb\" target=\"_parent\"><img src=\"https://colab.research.google.com/assets/colab-badge.svg\" alt=\"Open In Colab\"/></a>"
      ]
    },
    {
      "cell_type": "markdown",
      "source": [
        "# Tăng cường dữ liệu"
      ],
      "metadata": {
        "id": "wZg-orHKlYkz"
      }
    },
    {
      "cell_type": "code",
      "source": [
        "import os\n",
        "import librosa\n",
        "import numpy as np\n",
        "from scipy.io.wavfile import write\n",
        "from IPython.display import Audio, display\n",
        "from audiomentations import Compose, TimeStretch\n",
        "from scipy import signal\n",
        "import soundfile as sf  # Thêm thư viện soundfile để lưu âm thanh\n",
        "\n",
        "# Đường dẫn thư mục gốc và các thư mục cần thiết\n",
        "# Đường dẫn đến thư mục data gốc\n",
        "data_dir = '/content/drive/MyDrive/dataset_vivos/vivos/test/waves'\n",
        "\n",
        "# Đường dẫn đến thư mục chứa data tăng cường\n",
        "augment_dir = '/content/drive/MyDrive/dataset_vivos/vivos/augment/test_aug'\n",
        "os.makedirs(augment_dir, exist_ok=True)\n",
        "\n",
        "# Hàm lưu tệp âm thanh mới vào thư mục augment\n",
        "def save_audio(y, sr, file_name):\n",
        "    new_file_path = os.path.join(augment_dir, file_name)\n",
        "    write(new_file_path, sr, (y * 32767).astype(np.int16))  # Chuẩn hóa dữ liệu để ghi dạng int16\n",
        "\n",
        "# Thay đổi cao độ\n",
        "def change_pitch(y, sr, n_steps=2):\n",
        "    return librosa.effects.pitch_shift(y, sr=sr, n_steps=n_steps)\n",
        "\n",
        "# Thêm nhiễu ngẫu nhiên\n",
        "def add_noise(y, noise_factor=0.005):\n",
        "    return y + noise_factor * np.random.randn(len(y))\n",
        "\n",
        "# Hàm thêm tiếng vang (reverberation)\n",
        "def add_reverberation(y, sr, reverb_amount=0.4):\n",
        "    ir_length = int(0.3 * sr)  # 300 ms\n",
        "    ir = np.zeros(ir_length)\n",
        "    ir[0] = 1\n",
        "    ir[int(0.05 * sr)] = reverb_amount  # Thêm phản xạ tại 50 ms\n",
        "    y_reverb = signal.convolve(y, ir)[:len(y)]  # Tính toán tiếng vang\n",
        "    y_reverb = y_reverb / np.max(np.abs(y_reverb))  # Chuẩn hóa\n",
        "    return y_reverb\n",
        "\n",
        "# Lấy danh sách tệp âm thanh\n",
        "audio_files = []\n",
        "for root, dirs, files in os.walk(data_dir):\n",
        "    for file in files:\n",
        "        if file.endswith('.wav'):\n",
        "            audio_files.append(os.path.join(root, file))\n",
        "\n",
        "# Áp dụng các phép biến đổi theo tỉ lệ đã cho\n",
        "for file_path in audio_files:\n",
        "    y, sr = librosa.load(file_path, sr=None)\n",
        "    file_name = os.path.basename(file_path).split('.')[0]\n",
        "\n",
        "    # Chọn phép biến đổi ngẫu nhiên theo tỉ lệ\n",
        "    transform_type = random.choices(\n",
        "        ['pitch', 'noise', 'reverb', 'speed'],\n",
        "        weights=[0.2, 0.3, 0.2, 0.1],  # Thêm weights cho reverberation\n",
        "        k=1\n",
        "    )[0]\n",
        "\n",
        "    # Áp dụng phép biến đổi với mức độ ngẫu nhiên\n",
        "    if transform_type == 'pitch':\n",
        "        n_steps = random.randint(-2, 2)  # Thay đổi độ cao ngẫu nhiên\n",
        "        y_augmented = change_pitch(y, sr, n_steps=n_steps)\n",
        "        new_file_name = f\"{file_name}_pitch.wav\"\n",
        "    elif transform_type == 'noise':\n",
        "        noise_factor = random.uniform(0.001, 0.01)  # Thêm nhiễu ngẫu nhiên\n",
        "        y_augmented = add_noise(y, noise_factor=noise_factor)\n",
        "        new_file_name = f\"{file_name}_noise.wav\"\n",
        "    elif transform_type == 'reverb':\n",
        "        reverb_amount = random.uniform(0.1, 0.9)  # Lượng tiếng vang ngẫu nhiên\n",
        "        y_augmented = add_reverberation(y, sr, reverb_amount=reverb_amount)\n",
        "        new_file_name = f\"{file_name}_reverb.wav\"\n",
        "    elif transform_type == 'speed':\n",
        "        # Thay đổi tốc độ (time-stretch) sử dụng audiomentations\n",
        "        augmentations = Compose([\n",
        "            TimeStretch(min_rate=0.5, max_rate=1.5, p=1)  # Thay đổi tốc độ từ 0.5 đến 1.5\n",
        "        ])\n",
        "        y_augmented = augmentations(samples=y, sample_rate=sr)\n",
        "        new_file_name = f\"{file_name}_timestretch.wav\"\n",
        "\n",
        "    # Lưu tệp đã làm giàu\n",
        "    save_audio(y_augmented, sr, new_file_name)\n"
      ],
      "metadata": {
        "id": "L-VuJwKblcva"
      },
      "execution_count": null,
      "outputs": []
    }
  ],
  "metadata": {
    "colab": {
      "toc_visible": true,
      "provenance": [],
      "include_colab_link": true
    },
    "kernelspec": {
      "display_name": "Python 3",
      "name": "python3"
    }
  },
  "nbformat": 4,
  "nbformat_minor": 0
}